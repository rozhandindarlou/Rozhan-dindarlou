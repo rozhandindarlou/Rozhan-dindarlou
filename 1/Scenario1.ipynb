{
  "cells": [
    {
      "cell_type": "code",
      "execution_count": 1,
      "metadata": {
        "colab": {
          "base_uri": "https://localhost:8080/"
        },
        "id": "pBkP0MSZZEog",
        "outputId": "7eb0616d-641c-4e8a-ebc0-20eec4ed6f34"
      },
      "outputs": [
        {
          "output_type": "stream",
          "name": "stdout",
          "text": [
            "nvcc: NVIDIA (R) Cuda compiler driver\n",
            "Copyright (c) 2005-2022 NVIDIA Corporation\n",
            "Built on Wed_Sep_21_10:33:58_PDT_2022\n",
            "Cuda compilation tools, release 11.8, V11.8.89\n",
            "Build cuda_11.8.r11.8/compiler.31833905_0\n"
          ]
        }
      ],
      "source": [
        "!nvcc --version"
      ]
    },
    {
      "cell_type": "code",
      "source": [
        "!pip install cupy-cuda114"
      ],
      "metadata": {
        "colab": {
          "base_uri": "https://localhost:8080/"
        },
        "id": "MVmQdzIq-tFK",
        "outputId": "a5b327d1-12a2-46de-b5da-3ce2d09b9448"
      },
      "execution_count": 2,
      "outputs": [
        {
          "output_type": "stream",
          "name": "stdout",
          "text": [
            "Collecting cupy-cuda114\n",
            "  Downloading cupy_cuda114-10.6.0-cp310-cp310-manylinux1_x86_64.whl (85.0 MB)\n",
            "\u001b[2K     \u001b[90m━━━━━━━━━━━━━━━━━━━━━━━━━━━━━━━━━━━━━━━━\u001b[0m \u001b[32m85.0/85.0 MB\u001b[0m \u001b[31m12.0 MB/s\u001b[0m eta \u001b[36m0:00:00\u001b[0m\n",
            "\u001b[?25hRequirement already satisfied: numpy<1.25,>=1.18 in /usr/local/lib/python3.10/dist-packages (from cupy-cuda114) (1.22.4)\n",
            "Requirement already satisfied: fastrlock>=0.5 in /usr/local/lib/python3.10/dist-packages (from cupy-cuda114) (0.8.1)\n",
            "Installing collected packages: cupy-cuda114\n",
            "Successfully installed cupy-cuda114-10.6.0\n"
          ]
        }
      ]
    },
    {
      "cell_type": "code",
      "source": [
        "!pip install psutil\n",
        "!pip install gpustat"
      ],
      "metadata": {
        "colab": {
          "base_uri": "https://localhost:8080/"
        },
        "id": "1LoP9-IHAGen",
        "outputId": "f26bc951-b5cb-44dd-bab5-de0dd9c52b79"
      },
      "execution_count": 3,
      "outputs": [
        {
          "output_type": "stream",
          "name": "stdout",
          "text": [
            "Requirement already satisfied: psutil in /usr/local/lib/python3.10/dist-packages (5.9.5)\n",
            "Collecting gpustat\n",
            "  Downloading gpustat-1.1.tar.gz (97 kB)\n",
            "\u001b[2K     \u001b[90m━━━━━━━━━━━━━━━━━━━━━━━━━━━━━━━━━━━━━━━━\u001b[0m \u001b[32m97.9/97.9 kB\u001b[0m \u001b[31m3.2 MB/s\u001b[0m eta \u001b[36m0:00:00\u001b[0m\n",
            "\u001b[?25h  Installing build dependencies ... \u001b[?25l\u001b[?25hdone\n",
            "  Getting requirements to build wheel ... \u001b[?25l\u001b[?25hdone\n",
            "  Preparing metadata (pyproject.toml) ... \u001b[?25l\u001b[?25hdone\n",
            "Collecting nvidia-ml-py>=11.450.129 (from gpustat)\n",
            "  Downloading nvidia_ml_py-12.535.77-py3-none-any.whl (36 kB)\n",
            "Requirement already satisfied: psutil>=5.6.0 in /usr/local/lib/python3.10/dist-packages (from gpustat) (5.9.5)\n",
            "Collecting blessed>=1.17.1 (from gpustat)\n",
            "  Downloading blessed-1.20.0-py2.py3-none-any.whl (58 kB)\n",
            "\u001b[2K     \u001b[90m━━━━━━━━━━━━━━━━━━━━━━━━━━━━━━━━━━━━━━━━\u001b[0m \u001b[32m58.4/58.4 kB\u001b[0m \u001b[31m7.5 MB/s\u001b[0m eta \u001b[36m0:00:00\u001b[0m\n",
            "\u001b[?25hRequirement already satisfied: wcwidth>=0.1.4 in /usr/local/lib/python3.10/dist-packages (from blessed>=1.17.1->gpustat) (0.2.6)\n",
            "Requirement already satisfied: six>=1.9.0 in /usr/local/lib/python3.10/dist-packages (from blessed>=1.17.1->gpustat) (1.16.0)\n",
            "Building wheels for collected packages: gpustat\n",
            "  Building wheel for gpustat (pyproject.toml) ... \u001b[?25l\u001b[?25hdone\n",
            "  Created wheel for gpustat: filename=gpustat-1.1-py3-none-any.whl size=26280 sha256=9d3c6491f0c1fe6b364cf42e6e326914e2ff97d441ef730799ab51ae5dbdd9cc\n",
            "  Stored in directory: /root/.cache/pip/wheels/ee/d0/2c/1e02440645c2318ba03aea99993a44a9108dc8f74de0bd370b\n",
            "Successfully built gpustat\n",
            "Installing collected packages: nvidia-ml-py, blessed, gpustat\n",
            "Successfully installed blessed-1.20.0 gpustat-1.1 nvidia-ml-py-12.535.77\n"
          ]
        }
      ]
    },
    {
      "cell_type": "code",
      "execution_count": 4,
      "metadata": {
        "id": "_pTXRPOiY5To"
      },
      "outputs": [],
      "source": [
        "import numpy as np\n",
        "import cupy as cp\n",
        "import psutil\n",
        "import time\n",
        "import gpustat"
      ]
    },
    {
      "cell_type": "code",
      "execution_count": 13,
      "metadata": {
        "id": "umPhzN04Y7OX"
      },
      "outputs": [],
      "source": [
        "# Define the matrix sizes\n",
        "matrix_sizes = [100, 500, 1000, 2000, 3000]"
      ]
    },
    {
      "cell_type": "code",
      "execution_count": 14,
      "metadata": {
        "id": "pdrIq3plY9lI"
      },
      "outputs": [],
      "source": [
        "# CPU Matrix Multiplication\n",
        "def cpu_matrix_multiplication(matrix_a, matrix_b):\n",
        "    start_time = time.time()\n",
        "\n",
        "    # Perform matrix multiplication using CPU\n",
        "    cpu_result = np.dot(matrix_a, matrix_b)\n",
        "\n",
        "    end_time = time.time()\n",
        "    execution_time = end_time - start_time\n",
        "    return cpu_result, execution_time"
      ]
    },
    {
      "cell_type": "code",
      "source": [
        "# GPU Matrix Multiplication\n",
        "def gpu_matrix_multiplication(matrix_a, matrix_b):\n",
        "    start_time = time.time()\n",
        "\n",
        "    # Perform matrix multiplication using GPU\n",
        "    gpu_matrix_a = cp.asarray(matrix_a)\n",
        "    gpu_matrix_b = cp.asarray(matrix_b)\n",
        "    gpu_result = cp.dot(gpu_matrix_a, gpu_matrix_b)\n",
        "    cpu_result = cp.asnumpy(gpu_result)\n",
        "\n",
        "    end_time = time.time()\n",
        "    execution_time = end_time - start_time\n",
        "    return cpu_result, execution_time"
      ],
      "metadata": {
        "id": "K7Rt9vI9-8Dz"
      },
      "execution_count": 15,
      "outputs": []
    },
    {
      "cell_type": "code",
      "source": [
        "cpu_times = []\n",
        "gpu_times = []\n",
        "\n",
        "for matrix_size in matrix_sizes:\n",
        "    print(f'matrix_size = {matrix_sizes}:')\n",
        "    # Get the overall CPU percent\n",
        "    cpu_percent = psutil.cpu_percent()\n",
        "\n",
        "    # Get per-core CPU percent\n",
        "    cpu_percent_per_core = psutil.cpu_percent(percpu=True)\n",
        "\n",
        "    print(f'Overall CPU usage: {cpu_percent}%')\n",
        "    print(f'Per-core CPU usage: {cpu_percent_per_core}%')\n",
        "\n",
        "    # Get the overall GPU percent\n",
        "    stats = gpustat.new_query()\n",
        "    print(stats)\n",
        "\n",
        "    matrix_a = np.random.rand(matrix_size, matrix_size)\n",
        "    matrix_b = np.random.rand(matrix_size, matrix_size)\n",
        "\n",
        "    # Run CPU Matrix Multiplication\n",
        "    cpu_result, cpu_execution_time = cpu_matrix_multiplication(matrix_a, matrix_b)\n",
        "    cpu_times.append(cpu_execution_time)\n",
        "\n",
        "    # Run GPU Matrix Multiplication\n",
        "    gpu_result, gpu_execution_time = gpu_matrix_multiplication(matrix_a, matrix_b)\n",
        "    gpu_times.append(gpu_execution_time)\n",
        "\n",
        "    # Compare the results (optional)\n",
        "    print(\"CPU Result:\")\n",
        "    print(cpu_result)\n",
        "    print(\"GPU Result:\")\n",
        "    print(gpu_result)\n",
        "\n",
        "    # Print the execution times\n",
        "    print(\"CPU Execution Time:\", cpu_execution_time, \"seconds\")\n",
        "    print(\"GPU Execution Time:\", gpu_execution_time, \"seconds\")\n",
        "    print(\"----------------------------------------------------\")\n"
      ],
      "metadata": {
        "colab": {
          "base_uri": "https://localhost:8080/"
        },
        "id": "s4RwG9S_ALg_",
        "outputId": "bfc2fa78-5cca-48bd-d6ef-83a71868aa60"
      },
      "execution_count": 16,
      "outputs": [
        {
          "output_type": "stream",
          "name": "stdout",
          "text": [
            "matrix_size = [100, 500, 1000, 2000, 3000]:\n",
            "Overall CPU usage: 16.5%\n",
            "Per-core CPU usage: [15.9, 17.1]%\n",
            "GPUStatCollection(host=d6537d5522b1, [\n",
            "  [0] Tesla T4         | 71°C,   0 % |   347 / 15360 MB |\n",
            "])\n",
            "CPU Result:\n",
            "[[26.92825658 26.74674378 27.65136427 ... 27.01985846 27.89798647\n",
            "  23.57032429]\n",
            " [26.09319453 24.15680855 23.5788951  ... 25.91219067 25.99969676\n",
            "  22.88476996]\n",
            " [25.21800383 24.95094642 24.58423284 ... 25.17083122 24.6913118\n",
            "  21.56657106]\n",
            " ...\n",
            " [29.18025412 28.02098722 26.25027999 ... 27.70768793 27.00909255\n",
            "  24.34604391]\n",
            " [23.75382177 23.96818448 23.54117232 ... 24.64983643 23.40399775\n",
            "  21.28249136]\n",
            " [26.13997215 23.63085379 24.18058169 ... 27.90310517 25.84139426\n",
            "  23.35249336]]\n",
            "GPU Result:\n",
            "[[26.92825658 26.74674378 27.65136427 ... 27.01985846 27.89798647\n",
            "  23.57032429]\n",
            " [26.09319453 24.15680855 23.5788951  ... 25.91219067 25.99969676\n",
            "  22.88476996]\n",
            " [25.21800383 24.95094642 24.58423284 ... 25.17083122 24.6913118\n",
            "  21.56657106]\n",
            " ...\n",
            " [29.18025412 28.02098722 26.25027999 ... 27.70768793 27.00909255\n",
            "  24.34604391]\n",
            " [23.75382177 23.96818448 23.54117232 ... 24.64983643 23.40399775\n",
            "  21.28249136]\n",
            " [26.13997215 23.63085379 24.18058169 ... 27.90310517 25.84139426\n",
            "  23.35249336]]\n",
            "CPU Execution Time: 0.0002231597900390625 seconds\n",
            "GPU Execution Time: 0.0027844905853271484 seconds\n",
            "----------------------------------------------------\n",
            "matrix_size = [100, 500, 1000, 2000, 3000]:\n",
            "Overall CPU usage: 16.0%\n",
            "Per-core CPU usage: [9.1, 16.7]%\n",
            "GPUStatCollection(host=d6537d5522b1, [\n",
            "  [0] Tesla T4         | 71°C,   0 % |   347 / 15360 MB |\n",
            "])\n",
            "CPU Result:\n",
            "[[114.02698378 122.691677   122.43500998 ... 117.44808869 124.55710466\n",
            "  122.63258262]\n",
            " [125.67137854 123.67050237 122.25727394 ... 118.65376297 128.78414351\n",
            "  120.92010994]\n",
            " [124.62116259 127.83584113 131.42257355 ... 122.13231111 130.4936101\n",
            "  127.55011265]\n",
            " ...\n",
            " [124.51080785 128.35565477 127.1772561  ... 121.83352682 131.59269251\n",
            "  127.64020868]\n",
            " [128.36649269 128.87645905 125.29640921 ... 123.31052732 128.32922245\n",
            "  129.49190114]\n",
            " [132.8940929  134.98878466 132.43601846 ... 128.65137079 134.93773302\n",
            "  131.87943162]]\n",
            "GPU Result:\n",
            "[[114.02698378 122.691677   122.43500998 ... 117.44808869 124.55710466\n",
            "  122.63258262]\n",
            " [125.67137854 123.67050237 122.25727394 ... 118.65376297 128.78414351\n",
            "  120.92010994]\n",
            " [124.62116259 127.83584113 131.42257355 ... 122.13231111 130.4936101\n",
            "  127.55011265]\n",
            " ...\n",
            " [124.51080785 128.35565477 127.1772561  ... 121.83352682 131.59269251\n",
            "  127.64020868]\n",
            " [128.36649269 128.87645905 125.29640921 ... 123.31052732 128.32922245\n",
            "  129.49190114]\n",
            " [132.8940929  134.98878466 132.43601846 ... 128.65137079 134.93773302\n",
            "  131.87943162]]\n",
            "CPU Execution Time: 0.008050680160522461 seconds\n",
            "GPU Execution Time: 0.009264230728149414 seconds\n",
            "----------------------------------------------------\n",
            "matrix_size = [100, 500, 1000, 2000, 3000]:\n",
            "Overall CPU usage: 60.7%\n",
            "Per-core CPU usage: [73.3, 50.0]%\n",
            "GPUStatCollection(host=d6537d5522b1, [\n",
            "  [0] Tesla T4         | 71°C,   0 % |   347 / 15360 MB |\n",
            "])\n",
            "CPU Result:\n",
            "[[244.56171676 246.83594232 251.04941667 ... 261.9155778  264.53113856\n",
            "  252.70797778]\n",
            " [252.12563676 251.99234336 248.92510304 ... 270.10898023 257.40838034\n",
            "  255.09438472]\n",
            " [251.6753211  252.23676094 252.07538553 ... 267.74036777 259.32144621\n",
            "  255.48991714]\n",
            " ...\n",
            " [249.03777309 252.13893552 244.29130983 ... 261.72792932 258.80250349\n",
            "  247.85403105]\n",
            " [255.59456863 256.75894626 249.61681223 ... 268.79973592 266.49418291\n",
            "  253.42080459]\n",
            " [247.32246508 249.35540937 245.0213743  ... 262.23696578 262.61788065\n",
            "  247.75488391]]\n",
            "GPU Result:\n",
            "[[244.56171676 246.83594232 251.04941667 ... 261.9155778  264.53113856\n",
            "  252.70797778]\n",
            " [252.12563676 251.99234336 248.92510304 ... 270.10898023 257.40838034\n",
            "  255.09438472]\n",
            " [251.6753211  252.23676094 252.07538553 ... 267.74036777 259.32144621\n",
            "  255.48991714]\n",
            " ...\n",
            " [249.03777309 252.13893552 244.29130983 ... 261.72792932 258.80250349\n",
            "  247.85403105]\n",
            " [255.59456863 256.75894626 249.61681223 ... 268.79973592 266.49418291\n",
            "  253.42080459]\n",
            " [247.32246508 249.35540937 245.0213743  ... 262.23696578 262.61788065\n",
            "  247.75488391]]\n",
            "CPU Execution Time: 0.05790352821350098 seconds\n",
            "GPU Execution Time: 0.036203861236572266 seconds\n",
            "----------------------------------------------------\n",
            "matrix_size = [100, 500, 1000, 2000, 3000]:\n",
            "Overall CPU usage: 70.8%\n",
            "Per-core CPU usage: [92.0, 47.8]%\n",
            "GPUStatCollection(host=d6537d5522b1, [\n",
            "  [0] Tesla T4         | 71°C,  15 % |   347 / 15360 MB |\n",
            "])\n",
            "CPU Result:\n",
            "[[492.77937654 501.42097431 496.38291301 ... 492.79710781 493.81011521\n",
            "  501.8671606 ]\n",
            " [504.3049345  506.50392389 492.90017768 ... 493.01606589 494.63761179\n",
            "  501.40088397]\n",
            " [510.07229991 498.33712747 495.43859077 ... 493.82341593 488.71634884\n",
            "  507.0187241 ]\n",
            " ...\n",
            " [513.37476874 516.91619348 508.6516867  ... 512.43331739 509.67041166\n",
            "  518.18466   ]\n",
            " [516.46877077 505.4550648  499.57084404 ... 502.01475474 497.92027596\n",
            "  510.87654975]\n",
            " [493.47941396 507.28921876 503.839161   ... 497.00233194 487.17299335\n",
            "  504.28351155]]\n",
            "GPU Result:\n",
            "[[492.77937654 501.42097431 496.38291301 ... 492.79710781 493.81011521\n",
            "  501.8671606 ]\n",
            " [504.3049345  506.50392389 492.90017768 ... 493.01606589 494.63761179\n",
            "  501.40088397]\n",
            " [510.07229991 498.33712747 495.43859077 ... 493.82341593 488.71634884\n",
            "  507.0187241 ]\n",
            " ...\n",
            " [513.37476874 516.91619348 508.6516867  ... 512.43331739 509.67041166\n",
            "  518.18466   ]\n",
            " [516.46877077 505.4550648  499.57084404 ... 502.01475474 497.92027596\n",
            "  510.87654975]\n",
            " [493.47941396 507.28921876 503.839161   ... 497.00233194 487.17299335\n",
            "  504.28351155]]\n",
            "CPU Execution Time: 0.44410276412963867 seconds\n",
            "GPU Execution Time: 0.2279067039489746 seconds\n",
            "----------------------------------------------------\n",
            "matrix_size = [100, 500, 1000, 2000, 3000]:\n",
            "Overall CPU usage: 80.9%\n",
            "Per-core CPU usage: [82.1, 80.2]%\n",
            "GPUStatCollection(host=d6537d5522b1, [\n",
            "  [0] Tesla T4         | 71°C,  57 % |   443 / 15360 MB |\n",
            "])\n",
            "CPU Result:\n",
            "[[746.96106764 735.89509671 744.2240714  ... 742.61136929 764.98728191\n",
            "  746.32759221]\n",
            " [749.97257084 746.69176648 758.22458778 ... 760.02786116 771.8334338\n",
            "  746.92964274]\n",
            " [748.30542893 740.08142929 759.56773403 ... 753.21834337 771.99983006\n",
            "  756.43162754]\n",
            " ...\n",
            " [756.73015497 750.67563641 753.59237983 ... 759.49886584 761.5768923\n",
            "  750.85420349]\n",
            " [744.44116351 732.45515393 739.00366136 ... 748.32250358 759.1653366\n",
            "  736.99821571]\n",
            " [755.58481312 745.8616025  756.08531895 ... 766.3399777  762.75710311\n",
            "  762.69931252]]\n",
            "GPU Result:\n",
            "[[746.96106764 735.89509671 744.2240714  ... 742.61136929 764.98728191\n",
            "  746.32759221]\n",
            " [749.97257084 746.69176648 758.22458778 ... 760.02786116 771.8334338\n",
            "  746.92964274]\n",
            " [748.30542893 740.08142929 759.56773403 ... 753.21834337 771.99983006\n",
            "  756.43162754]\n",
            " ...\n",
            " [756.73015497 750.67563641 753.59237983 ... 759.49886584 761.5768923\n",
            "  750.85420349]\n",
            " [744.44116351 732.45515393 739.00366136 ... 748.32250358 759.1653366\n",
            "  736.99821571]\n",
            " [755.58481312 745.8616025  756.08531895 ... 766.3399777  762.75710311\n",
            "  762.69931252]]\n",
            "CPU Execution Time: 2.2829396724700928 seconds\n",
            "GPU Execution Time: 0.6747372150421143 seconds\n",
            "----------------------------------------------------\n"
          ]
        }
      ]
    },
    {
      "cell_type": "code",
      "source": [
        "import matplotlib.pyplot as plt\n",
        "\n",
        "# Plotting\n",
        "plt.plot(matrix_sizes, cpu_times, label='CPU')\n",
        "plt.plot(matrix_sizes, gpu_times, label='GPU')\n",
        "plt.xlabel('Matrix size')\n",
        "plt.ylabel('Time (seconds)')\n",
        "plt.title('CPU vs GPU performance')\n",
        "plt.legend()\n",
        "plt.show()"
      ],
      "metadata": {
        "colab": {
          "base_uri": "https://localhost:8080/",
          "height": 472
        },
        "id": "Q_4T9DZYvsbc",
        "outputId": "cf79ab7c-ba86-4770-ee0c-a43ec74c295e"
      },
      "execution_count": 17,
      "outputs": [
        {
          "output_type": "display_data",
          "data": {
            "text/plain": [
              "<Figure size 640x480 with 1 Axes>"
            ],
            "image/png": "[encoded data removed]"
          },
          "metadata": {}
        }
      ]
    }
  ],
  "metadata": {
    "colab": {
      "provenance": [],
      "toc_visible": true,
      "gpuType": "T4"
    },
    "kernelspec": {
      "display_name": "Python 3",
      "name": "python3"
    },
    "language_info": {
      "name": "python"
    },
    "accelerator": "GPU"
  },
  "nbformat": 4,
  "nbformat_minor": 0
}